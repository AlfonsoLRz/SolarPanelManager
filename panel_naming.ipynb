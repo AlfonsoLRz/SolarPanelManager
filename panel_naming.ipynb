{
 "cells": [
  {
   "cell_type": "code",
   "execution_count": 18,
   "metadata": {
    "collapsed": true,
    "pycharm": {
     "name": "#%%\n"
    }
   },
   "outputs": [],
   "source": [
    "# Open .shp file\n",
    "import fiona\n",
    "import numpy as np\n",
    "import pandas as pd"
   ]
  },
  {
   "cell_type": "code",
   "execution_count": 19,
   "outputs": [],
   "source": [
    "filename = 'qgis_assets/paneles_UJA_P4.shp'\n",
    "shp = fiona.open(filename)"
   ],
   "metadata": {
    "collapsed": false,
    "pycharm": {
     "name": "#%%\n"
    }
   }
  },
  {
   "cell_type": "code",
   "execution_count": 20,
   "outputs": [],
   "source": [
    "# Plot rectangles with matplotlib\n",
    "import matplotlib.pyplot as plt\n",
    "import seaborn as sns\n",
    "\n",
    "# Change matplotlib style\n",
    "plt.style.use('fivethirtyeight')\n",
    "\n",
    "font_mapping = {'family': 'Palatino Linotype', 'weight': 'normal', 'size': 11}\n",
    "plt.rc('font', **font_mapping)\n",
    "\n",
    "def plot_panels(shp, color_code, draw_text=False, text=None, draw_legend=True, savefig=None):\n",
    "    fig, ax = plt.subplots()\n",
    "    max_x = centroid_table_pd['x'].max() + 2\n",
    "    min_x = centroid_table_pd['x'].min() - 2\n",
    "    max_y = centroid_table_pd['y'].max() + 2\n",
    "    min_y = centroid_table_pd['y'].min() - 2\n",
    "    ax.set_xlim(min_x, max_x)\n",
    "    ax.set_ylim(min_y, max_y)\n",
    "    fig.set_size_inches(10 * (max_x - min_x) / (max_y - min_y), 10)\n",
    "\n",
    "    # Generate color palette from indices\n",
    "    palette = np.array(sns.color_palette(\"hls\", len(np.unique(color_code))))\n",
    "\n",
    "    for (idx, elem) in enumerate(shp):\n",
    "        x = []\n",
    "        y = []\n",
    "        for coord in elem['geometry']['coordinates'][0]:\n",
    "            x.append(coord[0])\n",
    "            y.append(coord[1])\n",
    "        if color_code is None:\n",
    "            ax.plot(x, y, color='black')\n",
    "        else:\n",
    "            ax.plot(x, y, color=palette[color_code[idx]], linewidth=0.5)\n",
    "\n",
    "    if color_code is not None:\n",
    "        # Show legend\n",
    "        for i in range(len(np.unique(color_code))):\n",
    "            ax.plot([], [], color=palette[i], label=i)\n",
    "        if draw_legend:\n",
    "            ax.legend(frameon=False, bbox_to_anchor=(1.05, 1), loc=2, borderaxespad=0.)\n",
    "\n",
    "    if draw_text:\n",
    "        for label in np.unique(color_code):\n",
    "            random_idx = np.random.choice(np.where(color_code == label)[0])\n",
    "            centroid = centroid_table[random_idx]\n",
    "            text_label = label if text is None else text[random_idx]\n",
    "            ax.text(centroid[0], centroid[1], text_label, fontsize=12, color='white', weight='bold', ha='center', va='center', bbox=dict(facecolor='black', edgecolor='none', alpha=0.8))\n",
    "\n",
    "    plt.tight_layout()\n",
    "    if savefig is not None:\n",
    "        plt.savefig(savefig, dpi=500)\n",
    "    plt.show()"
   ],
   "metadata": {
    "collapsed": false,
    "pycharm": {
     "name": "#%%\n"
    }
   }
  },
  {
   "cell_type": "code",
   "execution_count": 21,
   "outputs": [],
   "source": [
    "def plot_centroids(centroids, color_code=None, draw_text=False, plot_legend=True, text_size=12, savefig=None):\n",
    "    fig, ax = plt.subplots()\n",
    "    max_x = centroids['x'].max() + 2\n",
    "    min_x = centroids['x'].min() - 2\n",
    "    max_y = centroids['y'].max() + 2\n",
    "    min_y = centroids['y'].min() - 2\n",
    "    ax.set_xlim(min_x, max_x)\n",
    "    ax.set_ylim(min_y, max_y)\n",
    "    fig.set_size_inches(5 * (max_x - min_x) / (max_y - min_y), 5)\n",
    "\n",
    "    # Generate color palette from indices\n",
    "    if plot_legend:\n",
    "        palette = np.array(sns.color_palette(\"hls\", len(np.unique(color_code))))\n",
    "    else:\n",
    "        palette = np.array(sns.color_palette(\"rocket\", len(np.unique(color_code))))\n",
    "    plt.scatter(centroids['x'], centroids['y'], c=color_code)\n",
    "\n",
    "    if color_code is not None:\n",
    "        # Show legend\n",
    "        for i in range(len(np.unique(color_code))):\n",
    "            ax.plot([], [], color=palette[i], label=i)\n",
    "        # Place legend outside of plot\n",
    "        if plot_legend:\n",
    "            ax.legend(frameon=False, bbox_to_anchor=(1.05, 1), loc=2, borderaxespad=0.)\n",
    "\n",
    "    if draw_text:\n",
    "        for label in np.unique(color_code):\n",
    "            random_idx = np.random.choice(np.where(color_code == label)[0])\n",
    "            # From pandas dataframe\n",
    "            centroid = centroids.iloc[random_idx]\n",
    "            ax.text(centroid[0], centroid[1], label, fontsize=text_size, color='white', weight='bold', ha='center', va='center', bbox=dict(facecolor='black', edgecolor='none', alpha=0.5))\n",
    "\n",
    "    plt.tight_layout()\n",
    "    if savefig is not None:\n",
    "        plt.savefig(savefig, dpi=500)\n",
    "    plt.show()"
   ],
   "metadata": {
    "collapsed": false,
    "pycharm": {
     "name": "#%%\n"
    }
   }
  },
  {
   "cell_type": "code",
   "execution_count": 22,
   "outputs": [],
   "source": [
    "centroid_table = []\n",
    "\n",
    "for (idx, elem) in enumerate(shp):\n",
    "    # Calculate centroid\n",
    "    centroid = [0, 0]\n",
    "    for coord in elem['geometry']['coordinates'][0]:\n",
    "        centroid[0] += coord[0]\n",
    "        centroid[1] += coord[1]\n",
    "    centroid[0] /= len(elem['geometry']['coordinates'][0])\n",
    "    centroid[1] /= len(elem['geometry']['coordinates'][0])\n",
    "\n",
    "    centroid_table.append([centroid[0], centroid[1]])\n",
    "\n",
    "centroid_table_pd = pd.DataFrame(centroid_table, columns=['x', 'y'])"
   ],
   "metadata": {
    "collapsed": false,
    "pycharm": {
     "name": "#%%\n"
    }
   }
  },
  {
   "cell_type": "code",
   "execution_count": null,
   "outputs": [],
   "source": [
    "from sklearn.cluster import DBSCAN\n",
    "\n",
    "db = DBSCAN(eps=2, min_samples=5).fit(centroid_table_pd)\n",
    "labels = db.labels_\n",
    "\n",
    "plot_panels(shp, labels, draw_text=True)"
   ],
   "metadata": {
    "collapsed": false,
    "pycharm": {
     "name": "#%%\n",
     "is_executing": true
    }
   }
  },
  {
   "cell_type": "code",
   "execution_count": null,
   "outputs": [],
   "source": [
    "# Calculate average edge vector from each cell\n",
    "average_direction = np.zeros(2)\n",
    "for (idx, elem) in enumerate(shp):\n",
    "    average_direction = average_direction + np.asarray([elem['geometry']['coordinates'][0][1][0] - elem['geometry']['coordinates'][0][0][0],\n",
    "                elem['geometry']['coordinates'][0][1][1] - elem['geometry']['coordinates'][0][0][1]])\n",
    "\n",
    "average_direction = average_direction / len(shp)\n",
    "\n",
    "# Normalize both vectors\n",
    "module = (average_direction[0] ** 2 + average_direction[1] ** 2) ** 0.5\n",
    "norm_x = average_direction / module"
   ],
   "metadata": {
    "collapsed": false,
    "pycharm": {
     "name": "#%%\n",
     "is_executing": true
    }
   }
  },
  {
   "cell_type": "code",
   "execution_count": null,
   "outputs": [],
   "source": [
    "# Rotate points to align with x axis\n",
    "rotated_centroid_table = []\n",
    "\n",
    "for (idx, elem) in enumerate(shp):\n",
    "    rotated_centroid_table.append([centroid_table[idx][0] * norm_x[0] + centroid_table[idx][1] * norm_x[1],\n",
    "                                   -centroid_table[idx][0] * norm_x[1] + centroid_table[idx][1] * norm_x[0]])\n",
    "\n",
    "rotated_centroid_table_pd = pd.DataFrame(rotated_centroid_table, columns=['x', 'y'])\n",
    "plot_centroids(rotated_centroid_table_pd, labels, draw_text=True)"
   ],
   "metadata": {
    "collapsed": false,
    "pycharm": {
     "name": "#%%\n",
     "is_executing": true
    }
   }
  },
  {
   "cell_type": "code",
   "execution_count": null,
   "outputs": [],
   "source": [
    "cluster_centroid = np.zeros((len(np.unique(labels)), 2))\n",
    "\n",
    "for cluster in np.unique(labels):\n",
    "    centroids = rotated_centroid_table_pd[labels == cluster]\n",
    "    # Calculate average centroid\n",
    "    for centroid in centroids.values:\n",
    "        cluster_centroid[cluster] += centroid\n",
    "    cluster_centroid[cluster] /= len(centroids)\n",
    "\n",
    "cluster_centroid = cluster_centroid.tolist()"
   ],
   "metadata": {
    "collapsed": false,
    "pycharm": {
     "name": "#%%\n",
     "is_executing": true
    }
   }
  },
  {
   "cell_type": "code",
   "execution_count": null,
   "outputs": [],
   "source": [
    "def determine_row_col(centroids, max_vertical_distance=1.5):\n",
    "    row_cluster = np.zeros(len(centroids))\n",
    "    for (idx, elem) in enumerate(centroids):\n",
    "        row_cluster[idx] = -1\n",
    "\n",
    "    row = 1\n",
    "    row_cluster[0] = 0\n",
    "\n",
    "    # Determine different rows (not ordered yet)\n",
    "    for (idx1, centroid) in enumerate(centroids):\n",
    "        if idx1 > 0:\n",
    "            min_vertical_distance = 100000\n",
    "            for (idx2, centroid2) in enumerate(centroids):\n",
    "                if idx1 != idx2 and row_cluster[idx2] != -1:\n",
    "                    vertical_distance = abs(centroid[1] - centroid2[1])\n",
    "                    if vertical_distance < min_vertical_distance and vertical_distance < max_vertical_distance:\n",
    "                        min_vertical_distance = vertical_distance\n",
    "                        row_cluster[idx1] = row_cluster[idx2]\n",
    "\n",
    "            if min_vertical_distance == 100000:\n",
    "                row_cluster[idx1] = row\n",
    "                row += 1\n",
    "\n",
    "    # Order rows in the x-axis\n",
    "    new_labels = None\n",
    "    for row_idx in range(row):\n",
    "        cluster_indices = np.where(row_cluster == row_idx)[0]\n",
    "        # Order cluster indices by x coordinate\n",
    "        cluster_indices = [i for i in sorted(cluster_indices, key=lambda item: centroids[item][0])]\n",
    "\n",
    "        if new_labels is None:\n",
    "            new_labels = [cluster_indices]\n",
    "        else:\n",
    "            new_labels.append(cluster_indices)\n",
    "\n",
    "    # Calculate aggregated centroid per row\n",
    "    aggregated_centroid = np.zeros((len(new_labels), 2))\n",
    "    for (idx1, cluster_indices) in enumerate(new_labels):\n",
    "        for idx2 in cluster_indices:\n",
    "            aggregated_centroid[idx1] += centroids[idx2]\n",
    "        aggregated_centroid[idx1] /= len(cluster_indices)\n",
    "\n",
    "    # Order in the y-axis\n",
    "    new_label_order = [i[1] for i in sorted(enumerate(new_labels), key=lambda item: aggregated_centroid[item[0]][1])]\n",
    "\n",
    "    return new_label_order"
   ],
   "metadata": {
    "collapsed": false,
    "pycharm": {
     "name": "#%%\n",
     "is_executing": true
    }
   }
  },
  {
   "cell_type": "code",
   "execution_count": null,
   "outputs": [],
   "source": [
    "new_label_order = determine_row_col(cluster_centroid)\n",
    "\n",
    "# Map new labels to old labels\n",
    "idx = 0\n",
    "new_labels_panel = labels.copy()\n",
    "for cluster_indices in new_label_order:\n",
    "    for idx2 in cluster_indices:\n",
    "        new_labels_panel[labels == idx2] = idx\n",
    "        idx += 1\n",
    "\n",
    "plot_panels(shp, new_labels_panel, draw_text=True, savefig='array_map.png')"
   ],
   "metadata": {
    "collapsed": false,
    "pycharm": {
     "name": "#%%\n",
     "is_executing": true
    }
   }
  },
  {
   "cell_type": "code",
   "execution_count": null,
   "outputs": [],
   "source": [
    "# Sum number of cells per panel\n",
    "panel_count = np.zeros(len(np.unique(new_labels_panel)))\n",
    "for (idx, elem) in enumerate(shp):\n",
    "    panel_count[new_labels_panel[idx]] += 1\n",
    "\n",
    "# Create vector similar to new_labels_panel\n",
    "panel_count_vector = np.zeros(len(new_labels_panel), dtype=int)\n",
    "for (idx, elem) in enumerate(new_labels_panel):\n",
    "    panel_count_vector[idx] = panel_count[elem]"
   ],
   "metadata": {
    "collapsed": false,
    "pycharm": {
     "name": "#%%\n",
     "is_executing": true
    }
   }
  },
  {
   "cell_type": "code",
   "execution_count": null,
   "outputs": [],
   "source": [
    "# Count number of cells per panel\n",
    "plot_panels(shp, new_labels_panel, draw_text=True, text=panel_count_vector)"
   ],
   "metadata": {
    "collapsed": false,
    "pycharm": {
     "name": "#%%\n",
     "is_executing": true
    }
   }
  },
  {
   "cell_type": "code",
   "execution_count": null,
   "outputs": [],
   "source": [
    "# Gather centroid by panel label\n",
    "panel_centroid = [[] for i in range(len(np.unique(new_labels_panel)))]\n",
    "panel_indices = [[] for i in range(len(np.unique(new_labels_panel)))]\n",
    "\n",
    "# For each panel\n",
    "for (idx, elem) in enumerate(shp):\n",
    "    panel_centroid[new_labels_panel[idx]].append(rotated_centroid_table[idx])\n",
    "    panel_indices[new_labels_panel[idx]].append(idx)\n",
    "\n",
    "# Order by x-axis and y-axis\n",
    "new_labels_cell = labels.copy()\n",
    "idx = 0\n",
    "\n",
    "for (panel_idx, panel_centroids) in enumerate(panel_centroid):\n",
    "    new_label_order = determine_row_col(panel_centroids, max_vertical_distance=0.2)\n",
    "\n",
    "    # Map new labels to old labels\n",
    "    for panel_indices_row in new_label_order:\n",
    "        for idx2 in panel_indices_row:\n",
    "            new_labels_cell[panel_indices[panel_idx][idx2]] = idx\n",
    "            idx += 1\n",
    "\n",
    "plot_panels(shp, new_labels_cell, draw_text=False, draw_legend=False, savefig='panel_map.png')"
   ],
   "metadata": {
    "collapsed": false,
    "pycharm": {
     "name": "#%%\n",
     "is_executing": true
    }
   }
  },
  {
   "cell_type": "code",
   "execution_count": null,
   "outputs": [],
   "source": [
    "# Write back\n",
    "schema = shp.schema.copy()\n",
    "input_crs = shp.crs\n",
    "\n",
    "# New attributes\n",
    "schema['properties']['ID_ARRAY'] = 'int'\n",
    "schema['properties']['ID_CELL'] = 'int'\n",
    "\n",
    "with fiona.open(filename.split('.')[0] + '_new.shp', 'w', 'ESRI Shapefile', schema, input_crs) as output:\n",
    "    for (idx, elem) in enumerate(shp):\n",
    "        elem['properties']['ID_ARRAY'] = int(new_labels_panel[idx])\n",
    "        elem['properties']['ID_CELL'] = int(new_labels_cell[idx])\n",
    "        output.write({'properties': elem['properties'], 'geometry': elem['geometry']})"
   ],
   "metadata": {
    "collapsed": false,
    "pycharm": {
     "name": "#%%\n",
     "is_executing": true
    }
   }
  }
 ],
 "metadata": {
  "kernelspec": {
   "display_name": "Python 3",
   "language": "python",
   "name": "python3"
  },
  "language_info": {
   "codemirror_mode": {
    "name": "ipython",
    "version": 2
   },
   "file_extension": ".py",
   "mimetype": "text/x-python",
   "name": "python",
   "nbconvert_exporter": "python",
   "pygments_lexer": "ipython2",
   "version": "2.7.6"
  }
 },
 "nbformat": 4,
 "nbformat_minor": 0
}