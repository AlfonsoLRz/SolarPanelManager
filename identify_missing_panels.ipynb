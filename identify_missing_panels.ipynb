{
 "cells": [
  {
   "cell_type": "code",
   "execution_count": 2,
   "metadata": {
    "collapsed": true,
    "pycharm": {
     "name": "#%%\n"
    }
   },
   "outputs": [],
   "source": [
    "import fiona\n",
    "import numpy as np\n",
    "import pandas as pd"
   ]
  },
  {
   "cell_type": "code",
   "execution_count": 38,
   "outputs": [],
   "source": [
    "filename = 'qgis_assets/modulos_automatico_final_new.shp'\n",
    "shp = fiona.open(filename)"
   ],
   "metadata": {
    "collapsed": false,
    "pycharm": {
     "name": "#%%\n"
    }
   }
  },
  {
   "cell_type": "code",
   "execution_count": 39,
   "outputs": [],
   "source": [
    "# Plot rectangles with matplotlib\n",
    "import matplotlib.pyplot as plt\n",
    "import seaborn as sns\n",
    "\n",
    "# Change matplotlib style\n",
    "plt.style.use('default')\n",
    "\n",
    "font_mapping = {'family': 'Palatino Linotype', 'weight': 'normal', 'size': 11}\n",
    "plt.rc('font', **font_mapping)\n",
    "\n",
    "\n",
    "def plot_panels(shp, color_code, draw_text=False, text=None, draw_legend=True, savefig=None):\n",
    "    fig, ax = plt.subplots()\n",
    "    max_x = centroid_table_pd['x'].max() + 2\n",
    "    min_x = centroid_table_pd['x'].min() - 2\n",
    "    max_y = centroid_table_pd['y'].max() + 2\n",
    "    min_y = centroid_table_pd['y'].min() - 2\n",
    "    ax.set_xlim(min_x, max_x)\n",
    "    ax.set_ylim(min_y, max_y)\n",
    "    width = 10 * (max_x - min_x) / (max_y - min_y)\n",
    "    if draw_legend:\n",
    "        width += 1\n",
    "    fig.set_size_inches(width, 10)\n",
    "\n",
    "    # Generate color palette from indices\n",
    "    palette = np.array(sns.color_palette(\"hls\", len(np.unique(color_code))))\n",
    "\n",
    "    for (idx, elem) in enumerate(shp):\n",
    "        x = []\n",
    "        y = []\n",
    "        for coord in elem['geometry']['coordinates'][0]:\n",
    "            x.append(coord[0])\n",
    "            y.append(coord[1])\n",
    "        if color_code is None:\n",
    "            ax.plot(x, y, color='black')\n",
    "        else:\n",
    "            ax.plot(x, y, color=palette[color_code[idx]], linewidth=0.5)\n",
    "\n",
    "    if color_code is not None:\n",
    "        # Show legend\n",
    "        for i in range(len(np.unique(color_code))):\n",
    "            ax.plot([], [], color=palette[i], label=i)\n",
    "        if draw_legend:\n",
    "            ax.legend(frameon=False, bbox_to_anchor=(1.05, 1), loc=2, borderaxespad=0.)\n",
    "\n",
    "    if draw_text:\n",
    "        for label in np.unique(color_code):\n",
    "            random_idx = np.random.choice(np.where(color_code == label)[0])\n",
    "            centroid = centroid_table[random_idx]\n",
    "            text_label = label if text is None else text[random_idx]\n",
    "            ax.text(centroid[0], centroid[1], text_label, fontsize=12, color='white', weight='bold', ha='center',\n",
    "                    va='center', bbox=dict(facecolor='black', edgecolor='none', alpha=0.8))\n",
    "\n",
    "    plt.tight_layout()\n",
    "    if savefig is not None:\n",
    "        plt.savefig(savefig, dpi=500)\n",
    "    plt.show()\n",
    "\n",
    "\n",
    "def plot_centroids(centroids, color_code=None, draw_text=False, plot_legend=True, text_size=12, savefig=None):\n",
    "    fig, ax = plt.subplots()\n",
    "    max_x = centroids['x'].max() + 2\n",
    "    min_x = centroids['x'].min() - 2\n",
    "    max_y = centroids['y'].max() + 2\n",
    "    min_y = centroids['y'].min() - 2\n",
    "    ax.set_xlim(min_x, max_x)\n",
    "    ax.set_ylim(min_y, max_y)\n",
    "    fig.set_size_inches(5 * (max_x - min_x) / (max_y - min_y), 5)\n",
    "\n",
    "    # Generate color palette from indices\n",
    "    if plot_legend:\n",
    "        palette = np.array(sns.color_palette(\"hls\", len(np.unique(color_code))))\n",
    "    else:\n",
    "        palette = np.array(sns.color_palette(\"rocket\", len(np.unique(color_code))))\n",
    "    plt.scatter(centroids['x'], centroids['y'], c=color_code)\n",
    "\n",
    "    if color_code is not None:\n",
    "        # Show legend\n",
    "        for i in range(len(np.unique(color_code))):\n",
    "            ax.plot([], [], color=palette[i], label=i)\n",
    "        # Place legend outside of plot\n",
    "        if plot_legend:\n",
    "            ax.legend(frameon=False, bbox_to_anchor=(1.05, 1), loc=2, borderaxespad=0.)\n",
    "\n",
    "    if draw_text:\n",
    "        for label in np.unique(color_code):\n",
    "            random_idx = np.random.choice(np.where(color_code == label)[0])\n",
    "            # From pandas dataframe\n",
    "            centroid = centroids.iloc[random_idx]\n",
    "            ax.text(centroid[0], centroid[1], label, fontsize=text_size, color='white', weight='bold', ha='center',\n",
    "                    va='center', bbox=dict(facecolor='black', edgecolor='none', alpha=0.5))\n",
    "\n",
    "    plt.tight_layout()\n",
    "    if savefig is not None:\n",
    "        plt.savefig(savefig, dpi=500)\n",
    "    plt.show()"
   ],
   "metadata": {
    "collapsed": false,
    "pycharm": {
     "name": "#%%\n"
    }
   }
  },
  {
   "cell_type": "code",
   "execution_count": null,
   "outputs": [],
   "source": [
    "class Panel:\n",
    "    def __init__(self):\n",
    "        self._id_array = None\n",
    "        self._id_panel = None\n",
    "        self._geometry = None\n",
    "        self._centroid = None\n",
    "\n",
    "    def compute_centroid(self):\n",
    "        centroid = np.asarray([0, 0], dtype=np.float64)\n",
    "        for coord in self._geometry['coordinates'][0]:\n",
    "            centroid[0] += coord[0]\n",
    "            centroid[1] += coord[1]\n",
    "        centroid[0] /= len(self._geometry['coordinates'][0])\n",
    "        centroid[1] /= len(self._geometry['coordinates'][0])\n",
    "        self._centroid = centroid"
   ],
   "metadata": {
    "collapsed": false,
    "pycharm": {
     "name": "#%%\n"
    }
   }
  },
  {
   "cell_type": "code",
   "execution_count": 173,
   "outputs": [],
   "source": [
    "centroid_table = []\n",
    "panels = []\n",
    "cluster = dict()\n",
    "\n",
    "for (idx, elem) in enumerate(shp):\n",
    "    # Calculate centroid\n",
    "    centroid = np.asarray([0, 0], dtype=np.float64)\n",
    "    for coord in elem['geometry']['coordinates'][0]:\n",
    "        centroid[0] += coord[0]\n",
    "        centroid[1] += coord[1]\n",
    "    centroid[0] /= len(elem['geometry']['coordinates'][0])\n",
    "    centroid[1] /= len(elem['geometry']['coordinates'][0])\n",
    "\n",
    "    centroid_table.append(centroid)\n",
    "    panels.append(elem)\n",
    "    if elem['properties']['ID_ARRAY'] not in cluster:\n",
    "        cluster[elem['properties']['ID_ARRAY']] = []\n",
    "    cluster[elem['properties']['ID_ARRAY']].append(idx)"
   ],
   "metadata": {
    "collapsed": false,
    "pycharm": {
     "name": "#%%\n"
    }
   }
  },
  {
   "cell_type": "code",
   "execution_count": 177,
   "outputs": [
    {
     "name": "stdout",
     "output_type": "stream",
     "text": [
      "0.8743678532297031 1.133451431957703\n",
      "0.8743678532297031 1.133451431957703\n",
      "0.924227420500098 1.080113288911882\n",
      "0.924227420500098 1.080113288911882\n",
      "0.9195886390815661 1.0434837887081287\n",
      "0.9195886390815661 1.0434837887081287\n",
      "0.8751711524050014 1.0106161640445874\n",
      "0.8731922005964643 1.0094932777860783\n",
      "0.8713467631043565 1.2148630876968\n",
      "0.8723967475802535 1.011156763265303\n",
      "0.8729398226566206 1.010619019331992\n",
      "0.8746222885123884 1.001241461259705\n",
      "0.8746222885123884 1.001241461259705\n",
      "0.8746222885123884 1.001241461259705\n",
      "0.8690491335550444 1.00921321084931\n",
      "0.9250901945509716 1.0583188087384656\n",
      "Number of missing panels: 37\n"
     ]
    },
    {
     "name": "stderr",
     "output_type": "stream",
     "text": [
      "D:\\Github\\SolarPanelManager\\venv\\lib\\site-packages\\numpy\\core\\fromnumeric.py:3464: RuntimeWarning: Mean of empty slice.\n",
      "  return _methods._mean(a, axis=axis, dtype=dtype,\n",
      "D:\\Github\\SolarPanelManager\\venv\\lib\\site-packages\\numpy\\core\\_methods.py:192: RuntimeWarning: invalid value encountered in scalar divide\n",
      "  ret = ret.dtype.type(ret / rcount)\n"
     ]
    },
    {
     "data": {
      "text/plain": "<Figure size 593.707x500 with 1 Axes>",
      "image/png": "[encoded data removed]"
     },
     "metadata": {},
     "output_type": "display_data"
    }
   ],
   "source": [
    "missing_panels = []\n",
    "threshold_width = 1.1\n",
    "\n",
    "for key in cluster:\n",
    "    row_panels = dict()\n",
    "    row_centroids = dict()\n",
    "\n",
    "    for idx in cluster[key]:\n",
    "        if panels[idx]['properties']['ID_ROW'] not in row_panels:\n",
    "           row_panels[panels[idx]['properties']['ID_ROW']] = []\n",
    "        row_panels[panels[idx]['properties']['ID_ROW']].append(idx)\n",
    "        # Sort according to column\n",
    "        row_panels[panels[idx]['properties']['ID_ROW']].sort(key=lambda x: panels[x]['properties']['ID_COL'])\n",
    "\n",
    "        if panels[idx]['properties']['ID_ROW'] not in row_centroids:\n",
    "            row_centroids[panels[idx]['properties']['ID_ROW']] = np.zeros(2)\n",
    "        row_centroids[panels[idx]['properties']['ID_ROW']] += np.asarray(centroid_table[idx])\n",
    "\n",
    "    max_cols, max_rows = 0, len(row_panels)\n",
    "    for row in row_panels:\n",
    "        row_centroids[row] /= len(row_panels[row])\n",
    "        if len(row_panels[row]) > max_cols:\n",
    "            max_cols = len(row_panels[row])\n",
    "\n",
    "    # Calculate bounding box of array\n",
    "    min_x = np.min([panels[idx]['geometry']['coordinates'][0][0][0] for idx in cluster[key]])\n",
    "    max_x = np.max([panels[idx]['geometry']['coordinates'][0][0][0] for idx in cluster[key]])\n",
    "    min_y = np.min([panels[idx]['geometry']['coordinates'][0][0][1] for idx in cluster[key]])\n",
    "    max_y = np.max([panels[idx]['geometry']['coordinates'][0][0][1] for idx in cluster[key]])\n",
    "\n",
    "    # # Calculate inter-distance in y between rows\n",
    "    # row_distances = []\n",
    "    # for i in range(len(row_centroids) - 1):\n",
    "    #     row_distances.append(np.linalg.norm(row_centroids[i + 1] - row_centroids[i]))\n",
    "    # average_distance_height = np.mean(row_distances)\n",
    "\n",
    "    for row in row_panels:\n",
    "        if len(row_panels[row]) < max_cols:\n",
    "            # Determine spreading direction\n",
    "            average_direction = np.zeros(2)\n",
    "            average_width = 0\n",
    "            average_height = 0\n",
    "            num_panels = 0\n",
    "\n",
    "            # # Calculate inter-distance in x between columns\n",
    "            # col_distances = []\n",
    "            # for i in range(len(row_panels[row]) - 1):\n",
    "            #     distance_cols = np.linalg.norm(centroid_table[row_panels[row][i + 1]] - centroid_table[row_panels[row][i]])\n",
    "            #     if distance_cols > threshold_width:\n",
    "            #         col_distances.append(distance_cols)\n",
    "            # average_distance_width = np.mean(col_distances)\n",
    "\n",
    "            for row in row_panels:\n",
    "                for idx in row_panels[row]:\n",
    "                    point0 = np.asarray(panels[idx]['geometry']['coordinates'][0][0])\n",
    "                    point1 = np.asarray(panels[idx]['geometry']['coordinates'][0][1])\n",
    "                    point2 = np.asarray(panels[idx]['geometry']['coordinates'][0][2])\n",
    "\n",
    "                    average_direction = average_direction + np.asarray([point1[0] - point0[0], point1[1] - point0[1]])\n",
    "                    average_width = average_width + np.linalg.norm(point1 - point0)\n",
    "                    average_height = average_height + np.linalg.norm(point2 - point1)\n",
    "                    num_panels += 1\n",
    "                    # average_direction = average_direction + np.asarray([elem['geometry']['coordinates'][0][3][0] - elem['geometry']['coordinates'][0][0][0],\n",
    "                    #             elem['geometry']['coordinates'][0][3][1] - elem['geometry']['coordinates'][0][0][1]])\n",
    "\n",
    "            average_direction = average_direction / num_panels\n",
    "            average_width = np.abs(average_width / num_panels)\n",
    "            average_height = np.abs(average_height / num_panels)\n",
    "\n",
    "            # Normalize both vectors\n",
    "            module = (average_direction[0] ** 2 + average_direction[1] ** 2) ** 0.5\n",
    "            norm_x = average_direction / module\n",
    "            norm_y = np.asarray([-norm_x[1], norm_x[0]])\n",
    "            print(average_height, average_distance_height)\n",
    "\n",
    "            # Find missing panels\n",
    "            current_num_panels = len(row_panels[row])\n",
    "\n",
    "            for row in row_panels:\n",
    "                for i in range(len(row_panels[row]) - 1):\n",
    "                    # Calculate distance between adjacent panels\n",
    "                    centroid1 = np.asarray(centroid_table[row_panels[row][i]])\n",
    "                    centroid2 = np.asarray(centroid_table[row_panels[row][i + 1]])\n",
    "                    distance = np.linalg.norm(centroid1 - centroid2)\n",
    "\n",
    "                    if distance > average_width * 1.2:\n",
    "                        # new_centroid = np.divide(np.add(centroid1, centroid2), 2) + norm_x * (distance - average_width * 2) / 2.0 - norm_y * (average_distance_height - average_height) / 2.0\n",
    "                        new_centroid = centroid1 + norm_x * (average_width + (average_distance_width - average_width * 2)) - norm_y * (average_distance_height - average_height) / 2.0\n",
    "\n",
    "                        max_x_max_y = new_centroid + norm_x * average_width / 2 + norm_y * average_height / 2\n",
    "                        min_x_min_y = new_centroid - norm_x * average_width / 2 - norm_y * average_height / 2\n",
    "                        max_x_min_y = new_centroid + norm_x * average_width / 2 - norm_y * average_height / 2\n",
    "                        min_x_max_y = new_centroid - norm_x * average_width / 2 + norm_y * average_height / 2\n",
    "                        missing_panels.append((new_centroid, [max_x_max_y, min_x_max_y, min_x_min_y, max_x_min_y]))\n",
    "\n",
    "                        current_num_panels += 1\n",
    "\n",
    "print('Number of missing panels: {}'.format(len(missing_panels)))\n",
    "missing_panels_centroids = [elem[0] for elem in missing_panels]\n",
    "missing_panels_centroids_pd = pd.DataFrame(missing_panels_centroids, columns=['x', 'y'])\n",
    "plot_centroids(missing_panels_centroids_pd, color_code=None, draw_text=False, savefig=None, plot_legend=False, text_size=10)"
   ],
   "metadata": {
    "collapsed": false,
    "pycharm": {
     "name": "#%%\n"
    }
   }
  },
  {
   "cell_type": "code",
   "execution_count": 178,
   "outputs": [],
   "source": [
    "def polygon_area(geometry_np_array):\n",
    "    # Calculate area of polygon\n",
    "    area = 0\n",
    "    for i in range(len(geometry_np_array) - 1):\n",
    "        area += geometry_np_array[i][0] * geometry_np_array[i + 1][1] - geometry_np_array[i + 1][0] * geometry_np_array[i][1]\n",
    "    area += geometry_np_array[-1][0] * geometry_np_array[0][1] - geometry_np_array[0][0] * geometry_np_array[-1][1]\n",
    "    area = np.abs(area) / 2\n",
    "    return area\n",
    "\n",
    "def polygon_perimeter(geometry_np_array):\n",
    "    # Calculate perimeter of polygon\n",
    "    perimeter = 0\n",
    "    for i in range(len(geometry_np_array) - 1):\n",
    "        perimeter += ((geometry_np_array[i][0] - geometry_np_array[i + 1][0]) ** 2 + (geometry_np_array[i][1] - geometry_np_array[i + 1][1]) ** 2) ** 0.5\n",
    "    perimeter += ((geometry_np_array[-1][0] - geometry_np_array[0][0]) ** 2 + (geometry_np_array[-1][1] - geometry_np_array[0][1]) ** 2) ** 0.5\n",
    "    return perimeter"
   ],
   "metadata": {
    "collapsed": false,
    "pycharm": {
     "name": "#%%\n"
    }
   }
  },
  {
   "cell_type": "code",
   "execution_count": 179,
   "outputs": [
    {
     "name": "stdout",
     "output_type": "stream",
     "text": [
      "{'properties': {'No.': 'int:10', 'Area (Ha)': 'float:11.2', 'Perimetro(': 'float:11.2', 'Area(m2)': 'float:11.2', 'Perimetr_1': 'float:11.2', 'ID_ARRAY': 'int:18', 'ID_CELL': 'int:18', 'ID_ROW': 'int:18', 'ID_COL': 'int:18'}, 'geometry': 'Polygon'}\n"
     ]
    }
   ],
   "source": [
    "# Write back\n",
    "schema = shp.schema.copy()\n",
    "input_crs = shp.crs\n",
    "\n",
    "print(schema)\n",
    "\n",
    "with fiona.open(filename.split('.')[0] + '_fixed.shp', 'w', 'ESRI Shapefile', schema, input_crs) as output:\n",
    "    for elem in shp:\n",
    "        output.write({'properties': elem['properties'], 'geometry': elem['geometry']})\n",
    "\n",
    "    for panel in missing_panels:\n",
    "        # Build geometry buffer\n",
    "        geometry_buffer = [[]]\n",
    "        for point in panel[1]:\n",
    "            geometry_buffer[0].append((point[0], point[1]))\n",
    "\n",
    "        output.write({'properties': {'No.': -1, 'Area (Ha)': -1, 'Perimetro(': -1, 'Area(m2)': -1, 'Perimetr_1': -1, 'ID_ARRAY': -1, 'ID_CELL': -1, 'ID_ROW': -1, 'ID_COL': -1}, 'geometry': {'type': 'Polygon', 'coordinates': geometry_buffer }})"
   ],
   "metadata": {
    "collapsed": false,
    "pycharm": {
     "name": "#%%\n"
    }
   }
  },
  {
   "cell_type": "code",
   "execution_count": null,
   "outputs": [],
   "source": [],
   "metadata": {
    "collapsed": false,
    "pycharm": {
     "name": "#%%\n"
    }
   }
  }
 ],
 "metadata": {
  "kernelspec": {
   "display_name": "Python 3",
   "language": "python",
   "name": "python3"
  },
  "language_info": {
   "codemirror_mode": {
    "name": "ipython",
    "version": 2
   },
   "file_extension": ".py",
   "mimetype": "text/x-python",
   "name": "python",
   "nbconvert_exporter": "python",
   "pygments_lexer": "ipython2",
   "version": "2.7.6"
  }
 },
 "nbformat": 4,
 "nbformat_minor": 0
}