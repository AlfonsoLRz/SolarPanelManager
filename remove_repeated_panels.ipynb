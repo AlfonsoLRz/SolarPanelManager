{
 "cells": [
  {
   "cell_type": "code",
   "execution_count": 1,
   "metadata": {
    "collapsed": true,
    "pycharm": {
     "name": "#%%\n"
    }
   },
   "outputs": [],
   "source": [
    "import fiona\n",
    "import numpy as np\n",
    "import pandas as pd"
   ]
  },
  {
   "cell_type": "code",
   "execution_count": 2,
   "outputs": [],
   "source": [
    "filename = 'qgis_assets/modulos_manual.shp'\n",
    "shp = fiona.open(filename)"
   ],
   "metadata": {
    "collapsed": false,
    "pycharm": {
     "name": "#%%\n"
    }
   }
  },
  {
   "cell_type": "code",
   "execution_count": 14,
   "outputs": [],
   "source": [
    "centroid_table = []\n",
    "elems = []\n",
    "\n",
    "for (idx, elem) in enumerate(shp):\n",
    "    # Calculate centroid\n",
    "    centroid = [0, 0]\n",
    "    for coord in elem['geometry']['coordinates'][0]:\n",
    "        centroid[0] += coord[0]\n",
    "        centroid[1] += coord[1]\n",
    "    centroid[0] /= len(elem['geometry']['coordinates'][0])\n",
    "    centroid[1] /= len(elem['geometry']['coordinates'][0])\n",
    "\n",
    "    centroid_table.append(np.asarray(centroid))\n",
    "    elems.append(elem)"
   ],
   "metadata": {
    "collapsed": false,
    "pycharm": {
     "name": "#%%\n"
    }
   }
  },
  {
   "cell_type": "code",
   "execution_count": 15,
   "outputs": [
    {
     "name": "stdout",
     "output_type": "stream",
     "text": [
      "Centroid 31 and 32 are the same\n",
      "Centroid 920 and 1360 are the same\n",
      "Centroid 921 and 1361 are the same\n",
      "Centroid 922 and 1362 are the same\n",
      "Centroid 923 and 1363 are the same\n",
      "Centroid 924 and 1364 are the same\n",
      "Centroid 925 and 1365 are the same\n",
      "Centroid 926 and 1366 are the same\n",
      "Centroid 927 and 1367 are the same\n",
      "Centroid 928 and 1368 are the same\n",
      "Centroid 929 and 1369 are the same\n",
      "Centroid 930 and 1370 are the same\n",
      "Centroid 931 and 1371 are the same\n",
      "Centroid 932 and 1372 are the same\n",
      "Centroid 933 and 1373 are the same\n",
      "Centroid 934 and 1374 are the same\n",
      "Centroid 935 and 1375 are the same\n",
      "Centroid 936 and 1376 are the same\n",
      "Centroid 937 and 1377 are the same\n",
      "Centroid 938 and 1378 are the same\n",
      "Centroid 939 and 1379 are the same\n",
      "Centroid 1341 and 920 are the same\n",
      "Centroid 1342 and 921 are the same\n",
      "Centroid 1343 and 922 are the same\n",
      "Centroid 1344 and 923 are the same\n",
      "Centroid 1345 and 924 are the same\n",
      "Centroid 1346 and 925 are the same\n",
      "Centroid 1347 and 926 are the same\n",
      "Centroid 1348 and 927 are the same\n",
      "Centroid 1349 and 928 are the same\n",
      "Centroid 1350 and 929 are the same\n",
      "Centroid 1351 and 930 are the same\n",
      "Centroid 1352 and 931 are the same\n",
      "Centroid 1353 and 932 are the same\n",
      "Centroid 1354 and 933 are the same\n",
      "Centroid 1355 and 934 are the same\n",
      "Centroid 1356 and 935 are the same\n",
      "Centroid 1357 and 936 are the same\n",
      "Centroid 1358 and 937 are the same\n",
      "Centroid 1359 and 938 are the same\n",
      "Centroid 1360 and 939 are the same\n"
     ]
    }
   ],
   "source": [
    "# Compare every centroid to check if they are the same\n",
    "for (idx, elem) in enumerate(centroid_table):\n",
    "    for (idx2, elem2) in enumerate(centroid_table):\n",
    "        if idx != idx2:\n",
    "            if np.linalg.norm(elem - elem2) < 0.0001:\n",
    "                print('Centroid {} and {} are the same'.format(idx, idx2))\n",
    "                \n",
    "                # Remove the first one\n",
    "                centroid_table.pop(idx)\n",
    "                elems.pop(idx)\n",
    "                idx -= 1\n",
    "                break"
   ],
   "metadata": {
    "collapsed": false,
    "pycharm": {
     "name": "#%%\n"
    }
   }
  },
  {
   "cell_type": "code",
   "execution_count": 16,
   "outputs": [
    {
     "name": "stdout",
     "output_type": "stream",
     "text": [
      "qgis_assets/modulos_manual_fixed_geometry.shp\n"
     ]
    }
   ],
   "source": [
    "# Write back\n",
    "schema = shp.schema.copy()\n",
    "input_crs = shp.crs\n",
    "\n",
    "with fiona.open(filename.split('.')[0] + '_fixed_geometry.shp', 'w', 'ESRI Shapefile', schema, input_crs) as output:\n",
    "    for (idx, elem) in enumerate(elems):\n",
    "        output.write({'properties': elem['properties'], 'geometry': elem['geometry']})"
   ],
   "metadata": {
    "collapsed": false,
    "pycharm": {
     "name": "#%%\n"
    }
   }
  },
  {
   "cell_type": "code",
   "execution_count": null,
   "outputs": [],
   "source": [],
   "metadata": {
    "collapsed": false,
    "pycharm": {
     "name": "#%%\n"
    }
   }
  }
 ],
 "metadata": {
  "kernelspec": {
   "display_name": "Python 3",
   "language": "python",
   "name": "python3"
  },
  "language_info": {
   "codemirror_mode": {
    "name": "ipython",
    "version": 2
   },
   "file_extension": ".py",
   "mimetype": "text/x-python",
   "name": "python",
   "nbconvert_exporter": "python",
   "pygments_lexer": "ipython2",
   "version": "2.7.6"
  }
 },
 "nbformat": 4,
 "nbformat_minor": 0
}