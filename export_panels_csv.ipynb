{
 "cells": [
  {
   "cell_type": "code",
   "execution_count": 1,
   "metadata": {
    "collapsed": true,
    "pycharm": {
     "name": "#%%\n"
    }
   },
   "outputs": [],
   "source": [
    "import fiona\n",
    "import numpy as np\n",
    "import pandas as pd"
   ]
  },
  {
   "cell_type": "code",
   "execution_count": 2,
   "outputs": [],
   "source": [
    "filename = 'qgis_assets/modulos_manual_fixed_geometry_new.shp'\n",
    "shp = fiona.open(filename)"
   ],
   "metadata": {
    "collapsed": false,
    "pycharm": {
     "name": "#%%\n"
    }
   }
  },
  {
   "cell_type": "code",
   "execution_count": 3,
   "outputs": [],
   "source": [
    "with open(filename.split('.shp')[0] + '.csv', 'w') as f:\n",
    "    for feature in shp:\n",
    "        id_array = np.array(feature['properties']['ID_ARRAY'])\n",
    "        id_cell = np.array(feature['properties']['ID_CELL'])\n",
    "        geometry = []\n",
    "        for point in feature['geometry']['coordinates'][0]:\n",
    "            geometry.append(point)\n",
    "\n",
    "        # Calculate centroid\n",
    "        centroid = np.mean(geometry, axis=0)\n",
    "\n",
    "        # Write to file\n",
    "        f.write(f'{id_array},{id_cell},{centroid[0]},{centroid[1]}')\n",
    "        # Write geometry\n",
    "        for point in geometry:\n",
    "            f.write(f',{point[0]},{point[1]}')\n",
    "        f.write('\\n')"
   ],
   "metadata": {
    "collapsed": false,
    "pycharm": {
     "name": "#%%\n"
    }
   }
  },
  {
   "cell_type": "code",
   "execution_count": null,
   "outputs": [],
   "source": [],
   "metadata": {
    "collapsed": false,
    "pycharm": {
     "name": "#%%\n"
    }
   }
  }
 ],
 "metadata": {
  "kernelspec": {
   "display_name": "Python 3",
   "language": "python",
   "name": "python3"
  },
  "language_info": {
   "codemirror_mode": {
    "name": "ipython",
    "version": 2
   },
   "file_extension": ".py",
   "mimetype": "text/x-python",
   "name": "python",
   "nbconvert_exporter": "python",
   "pygments_lexer": "ipython2",
   "version": "2.7.6"
  }
 },
 "nbformat": 4,
 "nbformat_minor": 0
}