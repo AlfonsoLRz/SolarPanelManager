{
 "cells": [
  {
   "cell_type": "code",
   "execution_count": 1,
   "metadata": {
    "collapsed": true,
    "pycharm": {
     "name": "#%%\n"
    }
   },
   "outputs": [],
   "source": [
    "import fiona\n",
    "import numpy as np\n",
    "import pandas as pd"
   ]
  },
  {
   "cell_type": "code",
   "execution_count": 2,
   "outputs": [],
   "source": [
    "filename = 'qgis_assets/modulos_automatico_final_new.shp'\n",
    "shp = fiona.open(filename)"
   ],
   "metadata": {
    "collapsed": false,
    "pycharm": {
     "name": "#%%\n"
    }
   }
  },
  {
   "cell_type": "code",
   "execution_count": 3,
   "outputs": [],
   "source": [
    "centroid_table = []\n",
    "elems = []\n",
    "\n",
    "for (idx, elem) in enumerate(shp):\n",
    "    # Calculate centroid\n",
    "    centroid = [0, 0]\n",
    "    for coord in elem['geometry']['coordinates'][0]:\n",
    "        centroid[0] += coord[0]\n",
    "        centroid[1] += coord[1]\n",
    "    centroid[0] /= len(elem['geometry']['coordinates'][0])\n",
    "    centroid[1] /= len(elem['geometry']['coordinates'][0])\n",
    "\n",
    "    centroid_table.append(np.asarray(centroid))\n",
    "    elems.append(elem)"
   ],
   "metadata": {
    "collapsed": false,
    "pycharm": {
     "name": "#%%\n"
    }
   }
  },
  {
   "cell_type": "code",
   "execution_count": 4,
   "outputs": [],
   "source": [
    "# Compare every centroid to check if they are the same\n",
    "for (idx, elem) in enumerate(centroid_table):\n",
    "    for (idx2, elem2) in enumerate(centroid_table):\n",
    "        if idx != idx2:\n",
    "            if np.linalg.norm(elem - elem2) < 0.0001:\n",
    "                print('Centroid {} and {} are the same'.format(idx, idx2))\n",
    "\n",
    "                # Remove the first one\n",
    "                centroid_table.pop(idx)\n",
    "                elems.pop(idx)\n",
    "                idx -= 1\n",
    "                break"
   ],
   "metadata": {
    "collapsed": false,
    "pycharm": {
     "name": "#%%\n"
    }
   }
  },
  {
   "cell_type": "code",
   "execution_count": 5,
   "outputs": [],
   "source": [
    "# Write back\n",
    "schema = shp.schema.copy()\n",
    "input_crs = shp.crs\n",
    "\n",
    "with fiona.open(filename.split('.')[0] + '_fixed_geometry.shp', 'w', 'ESRI Shapefile', schema, input_crs) as output:\n",
    "    for (idx, elem) in enumerate(elems):\n",
    "        output.write({'properties': elem['properties'], 'geometry': elem['geometry']})"
   ],
   "metadata": {
    "collapsed": false,
    "pycharm": {
     "name": "#%%\n"
    }
   }
  },
  {
   "cell_type": "code",
   "execution_count": 5,
   "outputs": [],
   "source": [],
   "metadata": {
    "collapsed": false,
    "pycharm": {
     "name": "#%%\n"
    }
   }
  }
 ],
 "metadata": {
  "kernelspec": {
   "display_name": "Python 3",
   "language": "python",
   "name": "python3"
  },
  "language_info": {
   "codemirror_mode": {
    "name": "ipython",
    "version": 2
   },
   "file_extension": ".py",
   "mimetype": "text/x-python",
   "name": "python",
   "nbconvert_exporter": "python",
   "pygments_lexer": "ipython2",
   "version": "2.7.6"
  }
 },
 "nbformat": 4,
 "nbformat_minor": 0
}