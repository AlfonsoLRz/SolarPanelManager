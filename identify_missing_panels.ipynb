{
 "cells": [
  {
   "cell_type": "code",
   "execution_count": 60,
   "metadata": {
    "collapsed": true,
    "pycharm": {
     "name": "#%%\n"
    }
   },
   "outputs": [],
   "source": [
    "import fiona\n",
    "import numpy as np\n",
    "import pandas as pd"
   ]
  },
  {
   "cell_type": "code",
   "execution_count": 153,
   "outputs": [
    {
     "name": "stdout",
     "output_type": "stream",
     "text": [
      "{'properties': {'No.': 'int:10', 'Area (Ha)': 'float:11.2', 'Perimetro(': 'float:11.2', 'Area(m2)': 'float:11.2', 'Perimetr_1': 'float:11.2', 'ID_ARRAY': 'int:18', 'ID_CELL': 'int:18', 'ID_ROW': 'int:18', 'ID_COL': 'int:18'}, 'geometry': 'Polygon'}\n"
     ]
    }
   ],
   "source": [
    "filename = 'qgis_assets/modulos_automatico_final_new.shp'\n",
    "shp = fiona.open(filename)\n",
    "print(shp.schema)"
   ],
   "metadata": {
    "collapsed": false,
    "pycharm": {
     "name": "#%%\n"
    }
   }
  },
  {
   "cell_type": "code",
   "execution_count": 154,
   "outputs": [],
   "source": [
    "# Plot rectangles with matplotlib\n",
    "import matplotlib.pyplot as plt\n",
    "import seaborn as sns\n",
    "\n",
    "# Change matplotlib style\n",
    "plt.style.use('default')\n",
    "\n",
    "font_mapping = {'family': 'Palatino Linotype', 'weight': 'normal', 'size': 11}\n",
    "plt.rc('font', **font_mapping)\n",
    "\n",
    "\n",
    "def plot_panels(shp, color_code, draw_text=False, text=None, draw_legend=True, savefig=None):\n",
    "    fig, ax = plt.subplots()\n",
    "    max_x = centroid_table_pd['x'].max() + 2\n",
    "    min_x = centroid_table_pd['x'].min() - 2\n",
    "    max_y = centroid_table_pd['y'].max() + 2\n",
    "    min_y = centroid_table_pd['y'].min() - 2\n",
    "    ax.set_xlim(min_x, max_x)\n",
    "    ax.set_ylim(min_y, max_y)\n",
    "    width = 10 * (max_x - min_x) / (max_y - min_y)\n",
    "    if draw_legend:\n",
    "        width += 1\n",
    "    fig.set_size_inches(width, 10)\n",
    "\n",
    "    # Generate color palette from indices\n",
    "    palette = np.array(sns.color_palette(\"hls\", len(np.unique(color_code))))\n",
    "\n",
    "    for (idx, elem) in enumerate(shp):\n",
    "        x = []\n",
    "        y = []\n",
    "        for coord in elem['geometry']['coordinates'][0]:\n",
    "            x.append(coord[0])\n",
    "            y.append(coord[1])\n",
    "        if color_code is None:\n",
    "            ax.plot(x, y, color='black')\n",
    "        else:\n",
    "            ax.plot(x, y, color=palette[color_code[idx]], linewidth=0.5)\n",
    "\n",
    "    if color_code is not None:\n",
    "        # Show legend\n",
    "        for i in range(len(np.unique(color_code))):\n",
    "            ax.plot([], [], color=palette[i], label=i)\n",
    "        if draw_legend:\n",
    "            ax.legend(frameon=False, bbox_to_anchor=(1.05, 1), loc=2, borderaxespad=0.)\n",
    "\n",
    "    if draw_text:\n",
    "        for label in np.unique(color_code):\n",
    "            random_idx = np.random.choice(np.where(color_code == label)[0])\n",
    "            centroid = centroid_table[random_idx]\n",
    "            text_label = label if text is None else text[random_idx]\n",
    "            ax.text(centroid[0], centroid[1], text_label, fontsize=12, color='white', weight='bold', ha='center',\n",
    "                    va='center', bbox=dict(facecolor='black', edgecolor='none', alpha=0.8))\n",
    "\n",
    "    plt.tight_layout()\n",
    "    if savefig is not None:\n",
    "        plt.savefig(savefig, dpi=500)\n",
    "    plt.show()\n",
    "\n",
    "\n",
    "def plot_centroids(centroids, color_code=None, draw_text=False, plot_legend=True, text_size=12, savefig=None):\n",
    "    fig, ax = plt.subplots()\n",
    "    max_x = centroids['x'].max() + 2\n",
    "    min_x = centroids['x'].min() - 2\n",
    "    max_y = centroids['y'].max() + 2\n",
    "    min_y = centroids['y'].min() - 2\n",
    "    ax.set_xlim(min_x, max_x)\n",
    "    ax.set_ylim(min_y, max_y)\n",
    "    fig.set_size_inches(5 * (max_x - min_x) / (max_y - min_y), 5)\n",
    "\n",
    "    # Generate color palette from indices\n",
    "    if plot_legend:\n",
    "        palette = np.array(sns.color_palette(\"hls\", len(np.unique(color_code))))\n",
    "    else:\n",
    "        palette = np.array(sns.color_palette(\"rocket\", len(np.unique(color_code))))\n",
    "    plt.scatter(centroids['x'], centroids['y'], c=color_code)\n",
    "\n",
    "    if color_code is not None:\n",
    "        # Show legend\n",
    "        for i in range(len(np.unique(color_code))):\n",
    "            ax.plot([], [], color=palette[i], label=i)\n",
    "        # Place legend outside of plot\n",
    "        if plot_legend:\n",
    "            ax.legend(frameon=False, bbox_to_anchor=(1.05, 1), loc=2, borderaxespad=0.)\n",
    "\n",
    "    if draw_text:\n",
    "        for label in np.unique(color_code):\n",
    "            random_idx = np.random.choice(np.where(color_code == label)[0])\n",
    "            # From pandas dataframe\n",
    "            centroid = centroids.iloc[random_idx]\n",
    "            ax.text(centroid[0], centroid[1], label, fontsize=text_size, color='white', weight='bold', ha='center',\n",
    "                    va='center', bbox=dict(facecolor='black', edgecolor='none', alpha=0.5))\n",
    "\n",
    "    plt.tight_layout()\n",
    "    if savefig is not None:\n",
    "        plt.savefig(savefig, dpi=500)\n",
    "    plt.show()"
   ],
   "metadata": {
    "collapsed": false,
    "pycharm": {
     "name": "#%%\n"
    }
   }
  },
  {
   "cell_type": "code",
   "execution_count": 155,
   "outputs": [],
   "source": [
    "class Panel:\n",
    "    def __init__(self):\n",
    "        self.id_array = None\n",
    "        self.id_panel = None\n",
    "        self.row = None\n",
    "        self.col = None\n",
    "        self.geometry = None\n",
    "        self.centroid = None\n",
    "\n",
    "    def compute_centroid(self):\n",
    "        centroid = np.asarray([0, 0], dtype=np.float64)\n",
    "        for coord in self.geometry:\n",
    "            centroid[0] += coord[0]\n",
    "            centroid[1] += coord[1]\n",
    "        centroid[0] /= len(self.geometry)\n",
    "        centroid[1] /= len(self.geometry)\n",
    "        self.centroid = centroid\n",
    "\n",
    "    def get_area(self):\n",
    "        area = 0\n",
    "        for i in range(len(self.geometry) - 1):\n",
    "            area += self.geometry[i][0] * self.geometry[i + 1][1] - self.geometry[i + 1][0] * self.geometry[i][1]\n",
    "        area += self.geometry[-1][0] * self.geometry[0][1] - self.geometry[0][0] * self.geometry[-1][1]\n",
    "        area = np.abs(area) / 2\n",
    "\n",
    "        return area\n",
    "\n",
    "    def get_perimeter(self):\n",
    "        perimeter = 0\n",
    "        for i in range(len(self.geometry) - 1):\n",
    "            perimeter += ((self.geometry[i][0] - self.geometry[i + 1][0]) ** 2 + (self.geometry[i][1] - self.geometry[i + 1][1]) ** 2) ** 0.5\n",
    "        perimeter += ((self.geometry[-1][0] - self.geometry[0][0]) ** 2 + (self.geometry[-1][1] - self.geometry[0][1]) ** 2) ** 0.5\n",
    "\n",
    "        return perimeter"
   ],
   "metadata": {
    "collapsed": false,
    "pycharm": {
     "name": "#%%\n"
    }
   }
  },
  {
   "cell_type": "code",
   "execution_count": 156,
   "outputs": [],
   "source": [
    "def get_array_size(id_array, panel_indices, panel_buffer, norm_x):\n",
    "    # Calculate bounding box of array\n",
    "    min_x, max_x, min_y, max_y = 2e32, -2e32, 2e32, -2e32\n",
    "\n",
    "    for idx in panel_indices:\n",
    "        for coord in panels[idx].geometry:\n",
    "            # Rotate geometry according to norm_x\n",
    "            rotated_geometry = [coord[0] * norm_x[0] + coord[1] * norm_x[1], -coord[0] * norm_x[1] + coord[1] * norm_x[0]]\n",
    "            if rotated_geometry[0] < min_x:\n",
    "                min_x = rotated_geometry[0]\n",
    "            if rotated_geometry[0] > max_x:\n",
    "                max_x = rotated_geometry[0]\n",
    "            if rotated_geometry[1] < min_y:\n",
    "                min_y = rotated_geometry[1]\n",
    "            if rotated_geometry[1] > max_y:\n",
    "                max_y = rotated_geometry[1]\n",
    "\n",
    "    return max_x - min_x, max_y - min_y, [min_x, min_y], [max_x, max_y]\n",
    "\n",
    "\n",
    "def is_point_in_array(point, norm_x, array_min, array_max):\n",
    "    rotated_point = [point[0] * norm_x[0] + point[1] * norm_x[1], -point[0] * norm_x[1] + point[1] * norm_x[0]]\n",
    "\n",
    "    if array_min[0] < rotated_point[0] < array_max[0] and array_min[1] < rotated_point[1] < array_max[1]:\n",
    "        return True\n",
    "    else:\n",
    "        return False\n",
    "\n",
    "def get_panel_geometry(point, x, width, y, height):\n",
    "    max_x_max_y = point + x * width / 2 + y * height / 2\n",
    "    min_x_min_y = point - x * width / 2 - y * height / 2\n",
    "    max_x_min_y = point + x * width / 2 - y * height / 2\n",
    "    min_x_max_y = point - x * width / 2 + y * height / 2\n",
    "\n",
    "    return [max_x_max_y, min_x_max_y, min_x_min_y, max_x_min_y]"
   ],
   "metadata": {
    "collapsed": false,
    "pycharm": {
     "name": "#%%\n"
    }
   }
  },
  {
   "cell_type": "code",
   "execution_count": 177,
   "outputs": [],
   "source": [
    "panels = []\n",
    "cluster = dict()\n",
    "\n",
    "for (idx, elem) in enumerate(shp):\n",
    "    panel = Panel()\n",
    "    panel.id_array = elem['properties']['ID_ARRAY']\n",
    "    panel.id_panel = elem['properties']['ID_CELL']\n",
    "    panel.row = elem['properties']['ID_ROW']\n",
    "    panel.col = elem['properties']['ID_COL']\n",
    "    panel.geometry = elem['geometry']['coordinates'][0]\n",
    "    panel.compute_centroid()\n",
    "\n",
    "    # Plot geometry\n",
    "    # fig, ax = plt.subplots()\n",
    "    # x = []\n",
    "    # y = []\n",
    "    # for (idx, coord) in enumerate(panel.geometry):\n",
    "    #     x.append(coord[0])\n",
    "    #     y.append(coord[1])\n",
    "    #\n",
    "    #     if idx >= 4:\n",
    "    #         break\n",
    "    # ax.plot(x, y, color='black')\n",
    "    # plt.show()\n",
    "\n",
    "    panels.append(panel)\n",
    "    if panel.id_array not in cluster:\n",
    "        cluster[panel.id_array] = []\n",
    "    cluster[panel.id_array].append(idx)"
   ],
   "metadata": {
    "collapsed": false,
    "pycharm": {
     "name": "#%%\n"
    }
   }
  },
  {
   "cell_type": "code",
   "execution_count": 178,
   "outputs": [
    {
     "name": "stdout",
     "output_type": "stream",
     "text": [
      "{3: [681, 686, 793, 803, 782, 765, 746, 603, 584, 566, 551, 565, 675, 654, 637, 617, 629, 143, 124, 134, 109, 87, 100, 206, 183, 196, 173, 156, 8, 20, 0, 1850, 1830, 1843, 78, 55, 65, 46, 24, 33, 395, 375, 388, 368, 348, 357, 466, 445, 426, 418, 269, 252, 231, 243, 223, 332, 312, 324, 304, 281, 294, 1503, 1478], 0: [771, 752, 609, 572, 555, 647, 658, 641, 621, 138, 148, 125, 103, 114, 92, 102, 207, 187, 168, 180, 159, 12, 1862, 3, 1854, 1835, 1844, 79, 60, 70, 47, 25, 38, 399, 379, 360, 372, 350, 457, 469, 449, 429, 409, 421, 276, 255, 235, 218, 228, 336, 316, 295, 308, 285, 1494, 1504, 1480, 1489, 1462, 1471, 1476], 4: [705, 709, 682, 693, 799, 777, 788, 773, 754, 611, 593, 574, 556, 666, 651, 631, 642, 623, 140, 150, 127, 105, 116, 93, 202, 212, 189, 170, 182, 161, 14, 1864, 5, 1859, 1836, 74, 81, 62, 40, 49, 27, 392, 401, 381, 362, 374, 354, 462, 439, 451, 434, 414, 265, 277, 260, 240, 220, 328, 339, 317, 297, 310, 287, 1496], 2: [690, 797, 774, 789, 770, 755, 608, 590, 575, 557, 667, 646, 660, 640, 620, 137, 147, 128, 106, 113, 94, 200, 210, 190, 167, 179, 162, 11, 1865, 6, 1856, 1837, 71, 82, 59, 69, 50, 28, 37, 402, 382, 359, 371, 352, 460, 440, 452, 432, 412, 264, 275, 258, 237, 217, 229, 335, 315, 298, 307, 288, 1497, 1507, 1483, 1488], 1: [800, 783, 762, 747, 600, 585, 567, 580, 562, 673, 652, 634, 614, 626, 144, 121, 131, 110, 88, 98, 203, 213, 193, 174, 153, 165, 17, 1868, 1851, 1860, 1841, 75, 56, 66, 43, 53, 34, 396, 376, 385, 365, 346, 355, 463, 446, 423, 438, 415, 270, 250, 232, 244, 224, 330, 341, 321, 301, 282, 291, 1501, 1508, 1484, 1493, 1467]}\n",
      "{2: [790, 802, 785, 767, 748, 605, 586, 568, 552, 665, 649, 630, 645, 625, 139, 120, 129, 107, 118, 95, 205, 186, 195, 175, 158, 10, 22, 1, 1855, 1834, 73, 83], 4: [704, 678, 687, 792, 805, 784, 766, 751, 604, 589, 573, 554, 664, 648, 633, 624, 142, 119, 132, 117, 97, 208, 185, 198, 178, 157, 1863, 4, 1857], 0: [764, 749, 602, 587, 569, 662, 676, 661, 643, 622, 149, 130, 108, 115, 96, 201, 184, 176, 155, 7, 19, 1870, 1852, 1832, 72, 84, 61, 39, 52], 1: [776, 759, 772, 757, 610, 592, 577, 561, 670, 655, 636, 616, 628, 146, 123, 133, 112, 89, 99, 209, 192, 169, 181, 164, 13, 1867, 1849, 1861, 1840, 77, 58, 68], 3: [683, 691, 796, 779, 758, 743, 756, 613, 595, 581, 563, 672, 657, 639, 619, 136, 145, 126, 104, 111, 91, 199, 211, 191, 172, 152, 163, 16, 1869, 1848, 1831, 1842]}\n",
      "{3: [101, 188, 177, 9, 2, 1833, 80, 67, 23, 398, 387, 347, 467, 425, 417, 249, 242, 327, 322, 279, 1498], 4: [90, 204, 194, 151, 15, 1847, 1838, 86, 41, 30, 404, 361, 353, 442, 431, 263, 256, 245, 334, 325, 283], 0: [154, 18, 1846, 1839, 85, 44, 29, 403, 364, 356, 443, 433, 266, 257, 215, 333, 296, 286, 1505, 1486, 1468], 1: [197, 160, 21, 1853, 1845, 57, 48, 36, 378, 367, 458, 448, 437, 272, 261, 219, 342, 302, 292, 1506, 1490], 2: [214, 171, 166, 1866, 1858, 76, 63, 54, 391, 384, 373, 464, 454, 411, 278, 238, 226, 313, 305, 1495, 1481]}\n",
      "{3: [45, 26, 35, 400, 380, 389, 369, 351, 461, 444, 424, 435, 416, 267, 247, 262, 241, 221, 331, 314, 326, 306], 4: [64, 42, 51, 31, 393, 405, 345, 455, 470, 450, 430, 410, 422, 273, 253, 236, 230, 340, 319], 2: [32, 394, 406, 386, 366, 343, 456, 468, 447, 427, 407, 419, 274, 254, 233, 216, 227, 337, 320, 299, 280, 289], 1: [397, 377, 390, 370, 349, 459, 441, 453, 436, 413, 268, 248, 259, 239, 222, 329, 311, 323, 303, 284, 293, 1502], 0: [383, 363, 344, 358, 465, 428, 408, 420, 271, 251, 234, 246, 225, 338, 318, 300, 309, 290, 1499, 1509, 1485]}\n",
      "{0: [778, 761, 742, 599, 612, 594, 576, 559, 669, 650, 632, 644, 627, 141, 122], 1: [689, 795, 804, 787, 769, 750, 607, 588, 571, 550, 564, 674, 656, 638, 618, 135], 3: [702, 706, 680, 688, 794, 775, 786, 768, 753, 606, 591, 570, 553, 663, 677, 659], 2: [708, 685, 692, 798, 781, 760, 745, 598, 583, 597, 579, 558, 668, 653, 635, 615], 4: [701, 703, 707, 679, 684, 791, 801, 780, 763, 744, 601, 582, 596, 578, 560, 671]}\n",
      "{4: [471, 473, 475, 476, 481, 485, 536, 543], 3: [472, 474, 479, 483, 535, 538, 545, 549], 2: [477, 478, 482, 537, 540, 547, 548, 521], 1: [480, 484, 539, 542, 546, 519, 520, 522], 0: [534, 541, 544, 518, 523, 525]}\n",
      "{0: [508, 515, 486, 493, 496, 727, 730, 737, 740, 715, 718, 722, 695, 696, 698, 700], 3: [526, 528, 533, 505, 509, 512, 487, 490, 497, 500, 731, 734, 741, 712, 719, 723], 4: [524, 527, 529, 530, 503, 507, 510, 517, 488, 495, 498, 729, 732, 739, 710, 717], 2: [531, 532, 504, 511, 514, 489, 492, 499, 726, 733, 736, 711, 714, 721, 725, 694], 1: [502, 506, 513, 516, 491, 494, 501, 728, 735, 738, 713, 716, 720, 724, 697, 699]}\n",
      "{3: [1014, 1020, 1028, 1007, 854, 865, 843, 851, 828, 806, 817, 923, 933, 911, 889, 899, 877, 884, 1249, 1227, 1237, 1213, 1190, 1198], 1: [1004, 855, 862, 840, 850, 829, 807, 814, 920, 930, 908, 886, 896, 874, 1239, 1246, 1224, 1234, 1212, 1191, 1201, 1302, 1311, 1316], 2: [1027, 1000, 1011, 858, 868, 847, 825, 835, 810, 821, 926, 904, 914, 892, 870, 880, 1242, 1252, 1230, 1209, 1219, 1197, 1205, 1306], 0: [869, 822, 832, 811, 820, 927, 905, 915, 893, 871, 881, 1243, 1253, 1231, 1216, 1194], 4: [1038, 1045, 1019, 1024, 1003, 1010, 861, 839, 846, 824, 834, 813, 919, 929, 907, 917, 895, 873, 883, 1245, 1223, 1233, 1208, 1218]}\n",
      "{4: [1006, 857, 864, 845, 852, 830, 808, 818, 924, 902, 912, 890, 900, 878, 1240, 1248, 1228, 1206, 1214, 1192, 1203, 1305, 1312, 1286, 1294, 1300, 1276, 1255, 1262, 1113, 1123, 1099, 1106, 1083, 1088, 1063, 1068, 1075, 1174, 1178, 1187, 1158, 1162, 1166, 1172, 1144, 1150, 1154], 2: [842, 853, 831, 809, 819, 925, 903, 910, 891, 901, 879, 1238, 1250, 1226, 1207, 1215, 1193, 1200, 1307, 1310, 1287, 1292, 1301, 1277, 1284, 1263, 1110, 1120, 1098, 1107, 1080, 1089, 1065, 1069, 1072, 1175, 1180, 1184, 1159, 1163, 1168, 1173, 1146, 1151, 1156, 1129, 1133, 1134], 3: [860, 838, 849, 827, 836, 812, 921, 931, 909, 887, 897, 872, 885, 1244, 1225, 1235, 1210, 1221, 1199, 1204, 1309, 1314, 1290, 1296, 1272, 1280, 1259, 1266, 1119, 1095, 1102, 1079, 1087, 1093, 1066, 1070, 1077, 1176, 1182, 1186, 1160, 1164, 1171, 1142, 1148, 1152, 1127, 1131], 1: [826, 837, 815, 918, 928, 906, 916, 894, 875, 882, 1247, 1222, 1232, 1211, 1220, 1196, 1303, 1308, 1317, 1291, 1299, 1275, 1283, 1258, 1269, 1116, 1094, 1105, 1078, 1084, 1092, 1067, 1073, 1076, 1179, 1183, 1189, 1161, 1167, 1170, 1145, 1149, 1155, 1126, 1130, 1135, 1136, 1138], 0: [816, 922, 932, 913, 888, 898, 876, 1241, 1251, 1229, 1236, 1217, 1195, 1202, 1304, 1313, 1289, 1295, 1271, 1279, 1254, 1265, 1112, 1122, 1101, 1109, 1082, 1091, 1062, 1071, 1074, 1177, 1181, 1185, 1188, 1165, 1169, 1143, 1147, 1153, 1157, 1128, 1132, 1137, 1139, 1141, 1140]}\n",
      "{0: [1025, 998, 1008, 856, 866, 844, 823, 833], 1: [1015, 1021, 1029, 1002, 1012, 863, 841, 848], 2: [1039, 1043, 1016, 1023, 1001, 1009, 859, 867], 4: [1055, 1061, 1032, 1036, 1042, 1017, 1022, 999], 3: [1030, 1037, 1040, 1044, 1018, 1026, 1005, 1013]}\n",
      "{1: [1533, 1511, 1519, 1366, 1375, 1351, 1356, 1364, 1341, 1349, 1322, 1330, 1435, 1443, 1416, 1425, 1398, 1404, 1413, 1387, 1392, 1750, 1759, 1764, 1740, 1749, 1725, 1733, 1711, 1817, 1826, 1807, 1787, 1796, 1778, 1628, 1611, 1591, 1602, 1583, 1690, 1670, 1682, 1663, 1642, 1653, 990, 968, 981, 956, 934, 942, 1047, 1052, 1058, 1033], 3: [1570, 1549, 1557, 1532, 1510, 1518, 1369, 1374, 1350, 1359, 1335, 1340, 1348, 1325, 1333, 1434, 1442, 1419, 1424, 1401, 1407, 1412, 1386, 1395, 1753, 1758, 1735, 1743, 1748, 1724, 1703, 1710, 1816, 1829, 1806, 1786, 1767, 1779, 1631, 1610, 1590, 1605, 1582, 1693, 1673, 1685, 1662, 1643, 1652, 993, 971, 978, 959, 937, 945, 1046], 2: [1551, 1529, 1536, 1515, 1522, 1370, 1379, 1355, 1360, 1336, 1345, 1321, 1326, 1430, 1439, 1415, 1420, 1429, 1403, 1408, 1382, 1391, 1397, 1754, 1763, 1736, 1744, 1721, 1728, 1707, 1717, 1823, 1800, 1812, 1792, 1772, 1624, 1636, 1616, 1599, 1579, 1588, 1699, 1679, 1658, 1668, 1649, 986, 996, 974, 952, 962, 938, 949, 1050, 1056], 0: [1523, 1371, 1376, 1352, 1361, 1337, 1342, 1318, 1327, 1431, 1436, 1444, 1421, 1426, 1400, 1409, 1383, 1388, 1394, 1755, 1760, 1737, 1745, 1718, 1729, 1704, 1714, 1820, 1801, 1813, 1790, 1773, 1625, 1637, 1617, 1596, 1577, 1687, 1696, 1676, 1656, 1669, 1646, 987, 997, 975, 953, 963, 939, 946, 1051, 1057, 1031, 1034, 1041], 4: [1460, 1567, 1545, 1552, 1528, 1539, 1514, 1525, 1373, 1378, 1354, 1363, 1339, 1344, 1320, 1329, 1433, 1438, 1414, 1423, 1428, 1402, 1411, 1385, 1390, 1396, 1757, 1762, 1739, 1747, 1723, 1731, 1706, 1716, 1822, 1803, 1783, 1793, 1775, 1627, 1607, 1619, 1598, 1576, 1686, 1698, 1678, 1659, 1639, 1648, 989, 967, 977, 955, 965, 941]}\n",
      "{1: [1805, 1785, 1794, 1777, 1626, 1609, 1621, 1600, 1581, 1688, 1700, 1680, 1660, 1641, 1650, 991, 969, 979, 957, 935, 943, 948, 1053, 1059], 2: [1818, 1828, 1808, 1789, 1768, 1781, 1632, 1613, 1592, 1604, 1587, 1692, 1674, 1684, 1665, 1645, 983, 992, 972, 980, 960, 936, 947, 1049], 3: [1708, 1815, 1824, 1802, 1782, 1795, 1774, 1606, 1618, 1601, 1578, 1689, 1701, 1681, 1661, 1638, 1651, 988, 966, 976, 954, 964, 940], 0: [1769, 1623, 1633, 1615, 1595, 1575, 1584, 1694, 1675, 1654, 1667, 1647, 985, 994, 973, 950, 961, 944, 1048, 1054, 1060, 1035], 4: [1726, 1702, 1712, 1819, 1799, 1809, 1788, 1766, 1780, 1630, 1612, 1593, 1585, 1695, 1672, 1655, 1664, 1644, 982, 995, 970, 951, 958]}\n",
      "{0: [1741, 1722, 1709, 1825, 1810, 1770, 1634, 1597, 1589, 1677, 1666, 984], 3: [1389, 1752, 1734, 1719, 1732, 1814, 1804, 1797, 1629, 1620, 1580, 1671], 4: [1410, 1393, 1756, 1738, 1720, 1705, 1821, 1811, 1771, 1635, 1594, 1586], 2: [1751, 1765, 1746, 1730, 1715, 1798, 1791, 1622, 1614, 1574, 1697, 1657], 1: [1761, 1742, 1727, 1713, 1827, 1784, 1776, 1608, 1603, 1691, 1683, 1640]}\n",
      "{0: [1115, 1124, 1100, 1085, 1090, 1064], 1: [1285, 1261, 1111, 1118, 1096, 1104, 1081, 1086], 3: [1293, 1298, 1274, 1282, 1260, 1268, 1121, 1097], 2: [1270, 1278, 1257, 1264, 1117, 1125, 1103, 1108], 4: [1315, 1288, 1297, 1273, 1281, 1256, 1267, 1114]}\n",
      "{1: [1559, 1542, 1526, 1512, 1368, 1353, 1334, 1319, 1332, 1445, 1427, 1406], 2: [1450, 1563, 1547, 1530, 1516, 1372, 1357, 1338, 1323, 1432, 1417, 1399], 3: [1472, 1455, 1564, 1548, 1537, 1520, 1377, 1358, 1343, 1324, 1437, 1418], 4: [1465, 1477, 1459, 1571, 1555, 1541, 1524, 1381, 1362, 1347, 1328, 1441], 0: [1573, 1554, 1540, 1367, 1380, 1365, 1346, 1331, 1440, 1422, 1405, 1384]}\n",
      "{3: [1482, 1491, 1464, 1473, 1446, 1452, 1461, 1565, 1543, 1553], 1: [1470, 1447, 1453, 1458, 1562, 1572, 1550, 1531, 1538, 1517], 2: [1492, 1466, 1475, 1448, 1457, 1561, 1569, 1546, 1527, 1534], 0: [1449, 1454, 1558, 1566, 1544, 1556, 1535, 1513, 1521], 4: [1500, 1479, 1487, 1463, 1469, 1474, 1451, 1456, 1560, 1568]}\n"
     ]
    }
   ],
   "source": [
    "threshold_width = 1.1\n",
    "\n",
    "for key in cluster:\n",
    "    row_panels = dict()\n",
    "\n",
    "    for idx in cluster[key]:\n",
    "        if panels[idx].row not in row_panels:\n",
    "           row_panels[panels[idx].row] = []\n",
    "        row_panels[panels[idx].row].append(idx)\n",
    "        # Sort according to column\n",
    "        row_panels[panels[idx].row].sort(key=lambda x: panels[x].col)\n",
    "\n",
    "    # Grid size\n",
    "    max_cols, max_rows = 0, len(row_panels)\n",
    "    for row in row_panels:\n",
    "        if len(row_panels[row]) > max_cols:\n",
    "            max_cols = len(row_panels[row])\n",
    "\n",
    "    print(row_panels)\n",
    "\n",
    "    # Average direction\n",
    "    average_direction = np.zeros(2)\n",
    "    num_panels = 0\n",
    "\n",
    "    for row in row_panels:\n",
    "        for idx in row_panels[row]:\n",
    "            vec_x_1 = np.asarray(panels[idx].geometry[1]) - np.asarray(panels[idx].geometry[0])\n",
    "            vec_x_2 = np.asarray(panels[idx].geometry[2]) - np.asarray(panels[idx].geometry[3])\n",
    "            # Normalize\n",
    "            norm_vec_x_1 = vec_x_1 / np.linalg.norm(vec_x_1)\n",
    "            norm_vec_x_2 = vec_x_2 / np.linalg.norm(vec_x_2)\n",
    "\n",
    "            average_direction = average_direction + norm_vec_x_1 + norm_vec_x_2\n",
    "            num_panels += 2\n",
    "\n",
    "    average_direction = average_direction / num_panels\n",
    "    norm_x = average_direction / np.linalg.norm(average_direction)\n",
    "    norm_y = np.asarray([-norm_x[1], norm_x[0]])\n",
    "\n",
    "    # Size of array\n",
    "    array_width, array_height, array_min, array_max = get_array_size(key, cluster[key], panels, norm_x)\n",
    "\n",
    "    # Calculate average width and height of panels\n",
    "    average_width = 0\n",
    "    average_height = 0\n",
    "    num_panels = 0\n",
    "\n",
    "    for row in row_panels:\n",
    "        for idx in row_panels[row]:\n",
    "            average_width += np.linalg.norm(np.asarray(panels[idx].geometry[0]) - np.asarray(panels[idx].geometry[1]))\n",
    "            average_width += np.linalg.norm(np.asarray(panels[idx].geometry[2]) - np.asarray(panels[idx].geometry[3]))\n",
    "            average_height += np.linalg.norm(np.asarray(panels[idx].geometry[1]) - np.asarray(panels[idx].geometry[2]))\n",
    "            average_height += np.linalg.norm(np.asarray(panels[idx].geometry[3]) - np.asarray(panels[idx].geometry[0]))\n",
    "            num_panels += 2\n",
    "    average_width /= num_panels\n",
    "    average_height /= num_panels\n",
    "\n",
    "    average_distance_x = (array_width - average_width * max_cols) / (max_cols - 1)\n",
    "    average_distance_y = (array_height - average_height * max_rows) / (max_rows - 1)\n",
    "\n",
    "    # Minimum point of array\n",
    "    min_x, min_y = 2e32, 2e32\n",
    "    for row in row_panels:\n",
    "        for idx in row_panels[row]:\n",
    "            if panels[idx].centroid[0] < min_x:\n",
    "                min_x = panels[idx].centroid[0]\n",
    "            if panels[idx].centroid[1] < min_y:\n",
    "                min_y = panels[idx].centroid[1]\n",
    "\n",
    "    for (row_idx, row) in enumerate(row_panels):\n",
    "        if len(row_panels[row]) < max_cols:\n",
    "            # starting_point = np.asarray([min_x + average_width / 2.0, min_y + average_height / 2.0 * row_idx + (average_distance_y * (row_idx - 1) if row_idx > 0 else 0)])\n",
    "            num_panels = len(row_panels[row])\n",
    "\n",
    "            # Missing panels - start from the left\n",
    "            starting_point = panels[row_panels[row][0]].centroid - norm_x * (average_width + average_distance_x / 2.0) - norm_y * average_distance_y / 2.0\n",
    "            while is_point_in_array(starting_point, norm_x, array_min, array_max):\n",
    "                # Include new panel\n",
    "                new_panel = Panel()\n",
    "                new_panel.id_array = key\n",
    "                new_panel.row = row\n",
    "                new_panel.geometry = get_panel_geometry(starting_point, norm_x, average_width, norm_y, average_height)\n",
    "                new_panel.centroid = starting_point\n",
    "                panels.append(new_panel)\n",
    "                num_panels += 1\n",
    "\n",
    "                starting_point = starting_point - norm_x * (average_width + average_distance_x)\n",
    "\n",
    "            # Find missing panels in the middle\n",
    "            for row_i in row_panels:\n",
    "                for i in range(len(row_panels[row_i]) - 1):\n",
    "                    # Calculate distance between adjacent panels\n",
    "                    centroid1 = panels[row_panels[row_i][i]].centroid\n",
    "                    centroid2 = panels[row_panels[row_i][i + 1]].centroid\n",
    "                    distance = np.linalg.norm(centroid1 - centroid2)\n",
    "\n",
    "                    if distance > ((average_width + average_distance_x) * threshold_width):\n",
    "                        new_centroid = centroid1 + norm_x * (average_width + average_distance_x * 1.5) - norm_y * average_distance_y / 2.0\n",
    "                        new_panel = Panel()\n",
    "                        new_panel.id_array = key\n",
    "                        new_panel.row = row_i\n",
    "                        new_panel.geometry = get_panel_geometry(new_centroid, norm_x, average_width, norm_y, average_height)\n",
    "                        new_panel.centroid = new_centroid\n",
    "                        panels.append(new_panel)\n",
    "                        num_panels += 1\n",
    "\n",
    "                        # Insert new panel in the list\n",
    "                        row_panels[row_i].insert(i + 1, len(panels) - 1)\n",
    "\n",
    "            # Missing panels - start from the right\n",
    "            starting_point = panels[row_panels[row][len(row_panels[row]) - 1]].centroid + norm_x * average_distance_x - norm_y * average_distance_y / 2.0\n",
    "            while num_panels < max_cols:\n",
    "                starting_point = starting_point + norm_x * (average_width + average_distance_x)\n",
    "                # Include new panel\n",
    "                new_panel = Panel()\n",
    "                new_panel.id_array = key\n",
    "                new_panel.row = row\n",
    "                new_panel.geometry = get_panel_geometry(starting_point, norm_x, average_width, norm_y, average_height)\n",
    "                new_panel.centroid = starting_point\n",
    "                panels.append(new_panel)\n",
    "                num_panels += 1\n",
    "#\n",
    "#     break\n",
    "#\n",
    "# print('Number of missing panels: {}'.format(len(missing_panels)))\n",
    "# missing_panels_centroids = [elem[0] for elem in missing_panels]\n",
    "# missing_panels_centroids_pd = pd.DataFrame(missing_panels_centroids, columns=['x', 'y'])\n",
    "# plot_centroids(missing_panels_centroids_pd, color_code=None, draw_text=False, savefig=None, plot_legend=False, text_size=10)"
   ],
   "metadata": {
    "collapsed": false,
    "pycharm": {
     "name": "#%%\n"
    }
   }
  },
  {
   "cell_type": "code",
   "execution_count": 179,
   "outputs": [
    {
     "name": "stdout",
     "output_type": "stream",
     "text": [
      "1233\n"
     ]
    }
   ],
   "source": [
    "print(panels[1194].id_panel)"
   ],
   "metadata": {
    "collapsed": false,
    "pycharm": {
     "name": "#%%\n"
    }
   }
  },
  {
   "cell_type": "code",
   "execution_count": 180,
   "outputs": [],
   "source": [
    "# Write back\n",
    "schema = shp.schema.copy()\n",
    "input_crs = shp.crs\n",
    "\n",
    "with fiona.open(filename.split('.')[0] + '_fixed.shp', 'w', 'ESRI Shapefile', schema, input_crs) as output:\n",
    "    # for elem in shp:\n",
    "    #     output.write({'properties': elem['properties'], 'geometry': elem['geometry']})\n",
    "\n",
    "    for panel in panels:\n",
    "        # Build geometry buffer\n",
    "        geometry_buffer = [[]]\n",
    "        for point in panel.geometry:\n",
    "            geometry_buffer[0].append((point[0], point[1]))\n",
    "\n",
    "        output.write({'properties': {'No.': -1, 'Area (Ha)': -1, 'Perimetro(': panel.get_perimeter(), 'Area(m2)': panel.get_area(), 'Perimetr_1': panel.get_perimeter(), 'ID_ARRAY': -1, 'ID_CELL': -1, 'ID_ROW': -1, 'ID_COL': -1}, 'geometry': {'type': 'Polygon', 'coordinates': geometry_buffer }})"
   ],
   "metadata": {
    "collapsed": false,
    "pycharm": {
     "name": "#%%\n"
    }
   }
  },
  {
   "cell_type": "code",
   "execution_count": null,
   "outputs": [],
   "source": [],
   "metadata": {
    "collapsed": false,
    "pycharm": {
     "name": "#%%\n"
    }
   }
  }
 ],
 "metadata": {
  "kernelspec": {
   "display_name": "Python 3",
   "language": "python",
   "name": "python3"
  },
  "language_info": {
   "codemirror_mode": {
    "name": "ipython",
    "version": 2
   },
   "file_extension": ".py",
   "mimetype": "text/x-python",
   "name": "python",
   "nbconvert_exporter": "python",
   "pygments_lexer": "ipython2",
   "version": "2.7.6"
  }
 },
 "nbformat": 4,
 "nbformat_minor": 0
}